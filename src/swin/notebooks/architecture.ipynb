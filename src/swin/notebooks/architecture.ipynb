{
  "cells": [
    {
      "cell_type": "code",
      "execution_count": 1,
      "id": "initial_id",
      "metadata": {
        "collapsed": true,
        "colab": {
          "base_uri": "https://localhost:8080/"
        },
        "id": "initial_id",
        "outputId": "98373239-4f91-42ea-ced7-bb3d4945efb7"
      },
      "outputs": [
        {
          "output_type": "stream",
          "name": "stdout",
          "text": [
            "Collecting einops\n",
            "  Downloading einops-0.7.0-py3-none-any.whl (44 kB)\n",
            "\u001b[?25l     \u001b[90m━━━━━━━━━━━━━━━━━━━━━━━━━━━━━━━━━━━━━━━━\u001b[0m \u001b[32m0.0/44.6 kB\u001b[0m \u001b[31m?\u001b[0m eta \u001b[36m-:--:--\u001b[0m\r\u001b[2K     \u001b[90m━━━━━━━━━━━━━━━━━━━━━━━━━━━━━━━━━━━━━━━━\u001b[0m \u001b[32m44.6/44.6 kB\u001b[0m \u001b[31m2.0 MB/s\u001b[0m eta \u001b[36m0:00:00\u001b[0m\n",
            "\u001b[?25hInstalling collected packages: einops\n",
            "Successfully installed einops-0.7.0\n"
          ]
        }
      ],
      "source": [
        "!pip install einops"
      ]
    },
    {
      "cell_type": "code",
      "execution_count": 20,
      "id": "ed93ca22",
      "metadata": {
        "colab": {
          "base_uri": "https://localhost:8080/",
          "height": 35
        },
        "id": "ed93ca22",
        "outputId": "fd7429ac-880d-4a40-c978-462b807fd57c"
      },
      "outputs": [
        {
          "output_type": "execute_result",
          "data": {
            "text/plain": [
              "'cuda'"
            ],
            "application/vnd.google.colaboratory.intrinsic+json": {
              "type": "string"
            }
          },
          "metadata": {},
          "execution_count": 20
        }
      ],
      "source": [
        "import torch\n",
        "import numpy\n",
        "import torch.nn as nn\n",
        "import torch.nn.functional as functional\n",
        "import math\n",
        "from einops import rearrange\n",
        "\n",
        "device = 'cuda' if torch.cuda.is_available() else 'cpu'\n",
        "device"
      ]
    },
    {
      "cell_type": "code",
      "execution_count": 3,
      "id": "f0563c07",
      "metadata": {
        "id": "f0563c07"
      },
      "outputs": [],
      "source": [
        "class Embedding(nn.Module):\n",
        "    def __init__(self, patch_size=4, C=96):\n",
        "        super().__init__()\n",
        "        self.linear = nn.Conv2d(3, C, kernel_size=patch_size, stride=patch_size)\n",
        "        self.layer_norm = nn.LayerNorm(C)\n",
        "        self.relu = nn.ReLU()\n",
        "\n",
        "    def forward(self, x):\n",
        "        x = self.linear(x)\n",
        "        x = rearrange(x, 'b c h w -> b (h w) c')\n",
        "        x = self.relu(self.layer_norm(x))\n",
        "        return x"
      ]
    },
    {
      "cell_type": "code",
      "execution_count": 4,
      "id": "850c0378",
      "metadata": {
        "id": "850c0378"
      },
      "outputs": [],
      "source": [
        "class Merge(nn.Module):\n",
        "    def __init__(self, C):\n",
        "        super().__init__()\n",
        "        self.linear = nn.Linear(4*C, 2*C)\n",
        "        self.norm = nn.LayerNorm(2*C)\n",
        "\n",
        "    def forward(self, x):\n",
        "        height = width = int(math.sqrt(x.shape[1]) / 2)\n",
        "        x = rearrange(x, 'b (h s1 w s2) c -> b (h w) (s2 s1 c)', s1=2, s2=2, h=height, w=width)\n",
        "        x = self.linear(x)\n",
        "        x = self.norm(x)\n",
        "        return x"
      ]
    },
    {
      "cell_type": "code",
      "execution_count": 12,
      "id": "ac83ad1b",
      "metadata": {
        "id": "ac83ad1b"
      },
      "outputs": [],
      "source": [
        "class ShiftedWindowMSA(nn.Module):\n",
        "    def __init__(self, embed_dim, n_heads, window_size, mask=False):\n",
        "        super().__init__()\n",
        "        self.embed_dim = embed_dim\n",
        "        self.n_heads = n_heads\n",
        "        self.window_size = window_size\n",
        "        self.mask = mask\n",
        "        self.proj1 = nn.Linear(embed_dim, 3*embed_dim)\n",
        "        self.proj2 = nn.Linear(embed_dim, embed_dim)\n",
        "        self.embeddings = RelativeEmbedding()\n",
        "\n",
        "    def forward(self, x):\n",
        "        h_dim = self.embed_dim / self.n_heads\n",
        "        height = width = int(math.sqrt(x.shape[1]))\n",
        "        x = self.proj1(x)\n",
        "        x = rearrange(x, 'b (h w) (c K) -> b h w c K', K=3, h=height, w=width)\n",
        "\n",
        "        if self.mask:\n",
        "            x = torch.roll(x, (-self.window_size // 2, -self.window_size // 2), dims=(1, 2))\n",
        "\n",
        "        x = rearrange(x, 'b (h m1) (w m2) (H E) K -> b H h w (m1 m2) E K',\n",
        "                      H = self.n_heads, m1 = self.window_size, m2 = self.window_size)\n",
        "\n",
        "        Q, K, V = x.chunk(3, dim=6)\n",
        "        Q, K, V = Q.squeeze(-1), K.squeeze(-1), V.squeeze(-1)\n",
        "        att_scores = (Q @ K.transpose(4, 5)) / math.sqrt(h_dim)\n",
        "        att_scores = self.embeddings(att_scores)\n",
        "\n",
        "        if self.mask:\n",
        "            row_mask = torch.zeros((self.window_size**2, self.window_size**2)).cuda()\n",
        "            row_mask[-self.window_size * (self.window_size//2):, 0:-self.window_size * (self.window_size//2)] = float('-inf')\n",
        "            row_mask[0:-self.window_size * (self.window_size//2), -self.window_size * (self.window_size//2):] = float('-inf')\n",
        "            column_mask = rearrange(row_mask, '(r w1) (c w2) -> (w1 r) (w2 c)', w1 = self.window_size, w2 = self.window_size).cuda()\n",
        "            att_scores[:, :, -1, :] += row_mask\n",
        "            att_scores[:, :, :, -1] += column_mask\n",
        "\n",
        "        att = functional.softmax(att_scores, dim=-1) @ V\n",
        "        x = rearrange(att, 'b H h w (m1 m2) E -> b (h m1) (w m2) (H E)', m1 = self.window_size, m2=self.window_size)\n",
        "\n",
        "        if self.mask:\n",
        "            x = torch.roll(x, (self.window_size//2, self.window_size//2), (1, 2))\n",
        "        x = rearrange(x, 'b h w c -> b (h w) c')\n",
        "        return self.proj2(x)\n"
      ]
    },
    {
      "cell_type": "code",
      "execution_count": 13,
      "id": "cd505b55",
      "metadata": {
        "id": "cd505b55"
      },
      "outputs": [],
      "source": [
        "class RelativeEmbedding(nn.Module):\n",
        "    def __init__(self, window_size=7):\n",
        "        super().__init__()\n",
        "        b = nn.Parameter(torch.randn(2*window_size-1, 2*window_size-1))\n",
        "        x = torch.arange(1, window_size+1, 1/window_size)\n",
        "        x = (x[None, :]-x[:, None]).int()\n",
        "        y = torch.concat([torch.arange(1, window_size+1)] * window_size)\n",
        "        y = (y[None, :]-y[:, None])\n",
        "        self.embeddings = nn.Parameter((b[x[:,:], y[:,:]]), requires_grad=False)\n",
        "\n",
        "    def forward(self, x):\n",
        "        return x + self.embeddings"
      ]
    },
    {
      "cell_type": "code",
      "execution_count": 14,
      "id": "32b1591a",
      "metadata": {
        "id": "32b1591a"
      },
      "outputs": [],
      "source": [
        "class SwinBlock(nn.Module):\n",
        "    def __init__(self, embed_dim, num_heads, window_size, mask):\n",
        "        super().__init__()\n",
        "        self.layer_norm = nn.LayerNorm(embed_dim)\n",
        "        self.dropout = nn.Dropout(0.1)\n",
        "        self.wmsa = ShiftedWindowMSA(embed_dim=embed_dim, n_heads=num_heads, window_size=window_size, mask=mask)\n",
        "        self.mlp = nn.Sequential(\n",
        "            nn.Linear(embed_dim, embed_dim*4),\n",
        "            nn.GELU(),\n",
        "            nn.Linear(embed_dim*4, embed_dim)\n",
        "        )\n",
        "\n",
        "    def forward(self, x):\n",
        "        height, width = x.shape[1:3]\n",
        "        res1 = self.dropout(self.wmsa(self.layer_norm(x)) + x)\n",
        "        x = self.layer_norm(res1)\n",
        "        x = self.mlp(x)\n",
        "        return self.dropout(x + res1)\n",
        "\n",
        "class AlternateSwin(nn.Module):\n",
        "    def __init__(self, embed_dim, num_heads, window_size=7):\n",
        "        super().__init__()\n",
        "        self.wsa = SwinBlock(embed_dim=embed_dim, num_heads=num_heads, window_size=window_size, mask=False)\n",
        "        self.wmsa = SwinBlock(embed_dim=embed_dim, num_heads=num_heads, window_size=window_size, mask=True)\n",
        "\n",
        "    def forward(self, x):\n",
        "        return self.wmsa(self.wsa(x))\n"
      ]
    },
    {
      "cell_type": "code",
      "execution_count": 15,
      "id": "99e7f5dc",
      "metadata": {
        "id": "99e7f5dc"
      },
      "outputs": [],
      "source": [
        "class SwinTransformer(nn.Module):\n",
        "    def __init__(self):\n",
        "        super().__init__()\n",
        "        self.embedding = Embedding()\n",
        "        self.embedding = Embedding()\n",
        "        self.patch1 = Merge(96)\n",
        "        self.patch2 = Merge(192)\n",
        "        self.patch3 = Merge(384)\n",
        "        self.stage1 = AlternateSwin(96, 3)\n",
        "        self.stage2 = AlternateSwin(192, 6)\n",
        "        self.stage3_1 = AlternateSwin(384, 12)\n",
        "        self.stage3_2 = AlternateSwin(384, 12)\n",
        "        self.stage3_3 = AlternateSwin(384, 12)\n",
        "        self.stage4 = AlternateSwin(768, 24)\n",
        "\n",
        "    def forward(self, x):\n",
        "        x = self.embedding(x)\n",
        "        x = self.patch1(self.stage1(x))\n",
        "        x = self.patch2(self.stage2(x))\n",
        "        x = self.stage3_1(x)\n",
        "        x = self.stage3_2(x)\n",
        "        x = self.stage3_3(x)\n",
        "        x = self.patch3(x)\n",
        "        x = self.stage4(x)\n",
        "        return x"
      ]
    },
    {
      "cell_type": "code",
      "execution_count": 18,
      "id": "be6047df",
      "metadata": {
        "colab": {
          "base_uri": "https://localhost:8080/"
        },
        "id": "be6047df",
        "outputId": "634c017d-721a-4a60-b21d-ecf1997842c6"
      },
      "outputs": [
        {
          "output_type": "stream",
          "name": "stdout",
          "text": [
            "torch.Size([1, 49, 768])\n"
          ]
        }
      ],
      "source": [
        "def main():\n",
        "    x = torch.randn((1, 3, 224, 224)).to(device)\n",
        "    model = SwinTransformer().to(device)\n",
        "    print(model(x).shape)\n",
        "\n",
        "if __name__ == \"__main__\":\n",
        "    main()"
      ]
    }
  ],
  "metadata": {
    "kernelspec": {
      "display_name": "Python 3",
      "name": "python3"
    },
    "language_info": {
      "codemirror_mode": {
        "name": "ipython",
        "version": 3
      },
      "file_extension": ".py",
      "mimetype": "text/x-python",
      "name": "python",
      "nbconvert_exporter": "python",
      "pygments_lexer": "ipython3",
      "version": "3.11.5"
    },
    "colab": {
      "provenance": [],
      "gpuType": "T4"
    },
    "accelerator": "GPU"
  },
  "nbformat": 4,
  "nbformat_minor": 5
}