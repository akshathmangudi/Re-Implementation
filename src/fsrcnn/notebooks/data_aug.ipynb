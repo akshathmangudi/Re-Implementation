{
 "cells": [
  {
   "cell_type": "code",
   "execution_count": 14,
   "id": "7495e8fd-d14b-4afc-ab78-8106c56e6e1c",
   "metadata": {},
   "outputs": [
    {
     "data": {
      "text/plain": [
       "(True, True)"
      ]
     },
     "execution_count": 14,
     "metadata": {},
     "output_type": "execute_result"
    }
   ],
   "source": [
    "from pathlib import Path\n",
    "download_path = Path('/Users/Aksha/Downloads/BSD100_SR.zip')\n",
    "root_path = Path('/Users/Aksha/github/Re-Implementation/src/fast-res')\n",
    "Path.exists(download_path), Path.exists(download_path)"
   ]
  },
  {
   "cell_type": "code",
   "execution_count": 21,
   "id": "431d07a3-a28c-453d-8356-939af80e6d5a",
   "metadata": {},
   "outputs": [
    {
     "name": "stdout",
     "output_type": "stream",
     "text": [
      "All good\n"
     ]
    }
   ],
   "source": [
    "import zipfile\n",
    "import shutil\n",
    "\n",
    "dataset_path = root_path / 'dataset'\n",
    "# shutil.move(download_path, dataset_path)\n",
    "\n",
    "output_path = dataset_path / 'output'\n",
    "if output_path.is_dir(): \n",
    "    print(\"All good\")\n",
    "else: \n",
    "    output_path.mkdir(parents=True, exist_ok=True)\n",
    "\n",
    "with zipfile.ZipFile(dataset_path / \"BSD100_SR.zip\", 'r') as zipfile: \n",
    "    zipfile.extractall(output_path)\n",
    "# with zipfile.ZipFile(dataset_path / \"BSD100_SR.zip\", 'r')\n",
    "# Path.exists(dataset_path)"
   ]
  }
 ],
 "metadata": {
  "kernelspec": {
   "display_name": "Python 3 (ipykernel)",
   "language": "python",
   "name": "python3"
  },
  "language_info": {
   "codemirror_mode": {
    "name": "ipython",
    "version": 3
   },
   "file_extension": ".py",
   "mimetype": "text/x-python",
   "name": "python",
   "nbconvert_exporter": "python",
   "pygments_lexer": "ipython3",
   "version": "3.11.5"
  }
 },
 "nbformat": 4,
 "nbformat_minor": 5
}
