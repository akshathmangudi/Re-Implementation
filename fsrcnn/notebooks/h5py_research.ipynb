{
 "cells": [
  {
   "cell_type": "code",
   "execution_count": 1,
   "id": "d0798f74-31b1-492b-b534-525c352fdcb6",
   "metadata": {},
   "outputs": [
    {
     "data": {
      "text/plain": [
       "'C:\\\\Users\\\\Aksha\\\\github\\\\Re-Implementation\\\\src\\\\fast-res\\\\notebooks'"
      ]
     },
     "execution_count": 1,
     "metadata": {},
     "output_type": "execute_result"
    }
   ],
   "source": [
    "%pwd"
   ]
  },
  {
   "cell_type": "code",
   "execution_count": 2,
   "id": "2c4abce5-3939-4017-b8e8-a5c0fc2bbdbc",
   "metadata": {},
   "outputs": [
    {
     "data": {
      "text/plain": [
       "True"
      ]
     },
     "execution_count": 2,
     "metadata": {},
     "output_type": "execute_result"
    }
   ],
   "source": [
    "from pathlib import Path\n",
    "import os\n",
    "root_path = Path('/Users/Aksha/github/Re-Implementation/src/fast-res')\n",
    "data_path = root_path / \"dataset\"\n",
    "train_path = data_path / \"train\"\n",
    "eval_path = data_path / \"eval\"\n",
    "output_path = data_path / \"output\"\n",
    "\n",
    "# root_path = '/Users/Aksha/github/Re-Implementation/src/fast-res'\n",
    "# data_path = root_path + '/dataset'\n",
    "# os.path.exists(data_path)\n",
    "Path.exists(output_path)\n",
    "\n",
    "# train_path, eval_path"
   ]
  },
  {
   "cell_type": "code",
   "execution_count": 7,
   "id": "60b541bc-bb3d-4ea1-9d05-658ff15e26b8",
   "metadata": {},
   "outputs": [],
   "source": [
    "import h5py\n",
    "import glob\n",
    "import PIL.Image as pil_image\n",
    "import numpy as np\n",
    "\n",
    "for image in sorted(glob.glob('{}/*'.format(train_path))): \n",
    "    with h5py.File(image, 'r') as file:\n",
    "        hr = pil_image.fromarray(np.array(file['hr']))\n",
    "    hr_images = []\n",
    "    for s in [1.0, 0.9, 0.8, 0.7, 0.6]: \n",
    "        for r in [0, 90, 180, 270]: \n",
    "            tmp = hr.resize((int(hr.width * s), int(hr.height * s)), resample=pil_image.BICUBIC)\n",
    "            tmp = tmp.rotate(r, expand=True)\n",
    "            hr_images.append(tmp)\n",
    "    hr_images.append(hr)\n",
    "    hr_images"
   ]
  }
 ],
 "metadata": {
  "kernelspec": {
   "display_name": "Python 3 (ipykernel)",
   "language": "python",
   "name": "python3"
  },
  "language_info": {
   "codemirror_mode": {
    "name": "ipython",
    "version": 3
   },
   "file_extension": ".py",
   "mimetype": "text/x-python",
   "name": "python",
   "nbconvert_exporter": "python",
   "pygments_lexer": "ipython3",
   "version": "3.11.5"
  }
 },
 "nbformat": 4,
 "nbformat_minor": 5
}
