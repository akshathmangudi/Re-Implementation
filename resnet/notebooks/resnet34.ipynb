{
 "metadata": {
  "kernelspec": {
   "language": "python",
   "display_name": "Python 3",
   "name": "python3"
  },
  "language_info": {
   "name": "python",
   "version": "3.10.12",
   "mimetype": "text/x-python",
   "codemirror_mode": {
    "name": "ipython",
    "version": 3
   },
   "pygments_lexer": "ipython3",
   "nbconvert_exporter": "python",
   "file_extension": ".py"
  },
  "kaggle": {
   "accelerator": "gpu",
   "dataSources": [],
   "dockerImageVersionId": 30627,
   "isInternetEnabled": true,
   "language": "python",
   "sourceType": "notebook",
   "isGpuEnabled": true
  }
 },
 "nbformat_minor": 4,
 "nbformat": 4,
 "cells": [
  {
   "cell_type": "code",
   "source": [
    "import numpy as np \n",
    "import torch\n",
    "\n",
    "import torch.nn as nn\n",
    "from torch.nn import CrossEntropyLoss\n",
    "from torch.optim import Adam\n",
    "from torch.utils.data import DataLoader\n",
    "from torchvision import transforms\n",
    "from torchvision.transforms import ToTensor\n",
    "from torch.utils.data.sampler import SubsetRandomSampler\n",
    "from torchvision.datasets import CIFAR10"
   ],
   "metadata": {
    "_uuid": "8f2839f25d086af736a60e9eeb907d3b93b6e0e5",
    "_cell_guid": "b1076dfc-b9ad-4769-8c92-a6c4dae69d19",
    "execution": {
     "iopub.status.busy": "2023-12-19T13:02:12.897615Z",
     "iopub.execute_input": "2023-12-19T13:02:12.898337Z",
     "iopub.status.idle": "2023-12-19T13:02:12.903654Z",
     "shell.execute_reply.started": "2023-12-19T13:02:12.898302Z",
     "shell.execute_reply": "2023-12-19T13:02:12.902681Z"
    },
    "trusted": true
   },
   "execution_count": 9,
   "outputs": []
  },
  {
   "cell_type": "code",
   "source": [
    "device = torch.device('cuda' if torch.cuda.is_available() else 'cpu')"
   ],
   "metadata": {
    "execution": {
     "iopub.status.busy": "2023-12-19T13:02:12.909130Z",
     "iopub.execute_input": "2023-12-19T13:02:12.909405Z",
     "iopub.status.idle": "2023-12-19T13:02:12.915281Z",
     "shell.execute_reply.started": "2023-12-19T13:02:12.909381Z",
     "shell.execute_reply": "2023-12-19T13:02:12.914570Z"
    },
    "trusted": true
   },
   "execution_count": 10,
   "outputs": []
  },
  {
   "cell_type": "code",
   "source": [
    "np.random.seed(0)\n",
    "random_seed = torch.manual_seed(0)\n",
    "\n",
    "def data_loader(data_dir, batch_size, random_seed=random_seed, valid_size=0.1, shuffle=True, test=False): \n",
    "    normalize = transforms.Normalize(\n",
    "        mean=[0.4914, 0.4822, 0.4465],\n",
    "        std=[0.2023, 0.1994, 0.2010],\n",
    "    )\n",
    "\n",
    "    transform = transforms.Compose([\n",
    "        transforms.Resize((224, 224)), \n",
    "        transforms.ToTensor(), \n",
    "        normalize,\n",
    "    ])\n",
    "\n",
    "    if test: \n",
    "        dataset = CIFAR10(root=data_dir, train=True, download=True, transform=transform)\n",
    "        data_loader = DataLoader(dataset, batch_size=batch_size, shuffle=False)\n",
    "        return data_loader\n",
    "\n",
    "    train_dataset = CIFAR10(root=data_dir, train=True, download=True, transform=transform)\n",
    "    valid_dataset = CIFAR10(root=data_dir, train=True, download=True, transform=transform)\n",
    "\n",
    "    train_dataloader = DataLoader(train_dataset, batch_size=batch_size, shuffle=True)\n",
    "    valid_dataloader = DataLoader(valid_dataset, batch_size=batch_size, shuffle=True)\n",
    "\n",
    "    return (train_dataloader, valid_dataloader)"
   ],
   "metadata": {
    "execution": {
     "iopub.status.busy": "2023-12-19T13:02:12.916714Z",
     "iopub.execute_input": "2023-12-19T13:02:12.917026Z",
     "iopub.status.idle": "2023-12-19T13:02:12.925594Z",
     "shell.execute_reply.started": "2023-12-19T13:02:12.917002Z",
     "shell.execute_reply": "2023-12-19T13:02:12.924868Z"
    },
    "trusted": true
   },
   "execution_count": 11,
   "outputs": []
  },
  {
   "cell_type": "code",
   "source": [
    "train_loader, valid_loader = data_loader(data_dir='./cifar10', batch_size=64)\n",
    "test_loader = data_loader(data_dir='./cifar10', batch_size=64, test=True)"
   ],
   "metadata": {
    "execution": {
     "iopub.status.busy": "2023-12-19T13:02:12.926831Z",
     "iopub.execute_input": "2023-12-19T13:02:12.927398Z",
     "iopub.status.idle": "2023-12-19T13:02:15.405869Z",
     "shell.execute_reply.started": "2023-12-19T13:02:12.927373Z",
     "shell.execute_reply": "2023-12-19T13:02:15.405080Z"
    },
    "trusted": true
   },
   "execution_count": 12,
   "outputs": [
    {
     "name": "stdout",
     "text": "Files already downloaded and verified\nFiles already downloaded and verified\nFiles already downloaded and verified\n",
     "output_type": "stream"
    }
   ]
  },
  {
   "cell_type": "code",
   "source": [
    "class ResidualBlock(nn.Module):\n",
    "    def __init__(self, in_channels, out_channels, stride = 1, downsample = None):\n",
    "        super(ResidualBlock, self).__init__()\n",
    "        self.conv1 = nn.Sequential(\n",
    "                        nn.Conv2d(in_channels, out_channels, kernel_size = 3, stride = stride, padding = 1),\n",
    "                        nn.BatchNorm2d(out_channels),\n",
    "                        nn.ReLU())\n",
    "        self.conv2 = nn.Sequential(\n",
    "                        nn.Conv2d(out_channels, out_channels, kernel_size = 3, stride = 1, padding = 1),\n",
    "                        nn.BatchNorm2d(out_channels))\n",
    "        self.downsample = downsample\n",
    "        self.relu = nn.ReLU()\n",
    "        self.out_channels = out_channels\n",
    "        \n",
    "    def forward(self, x):\n",
    "        residual = x\n",
    "        out = self.conv1(x)\n",
    "        out = self.conv2(out)\n",
    "        if self.downsample:\n",
    "            residual = self.downsample(x)\n",
    "        out += residual\n",
    "        out = self.relu(out)\n",
    "        return out"
   ],
   "metadata": {
    "execution": {
     "iopub.status.busy": "2023-12-19T13:02:15.407077Z",
     "iopub.execute_input": "2023-12-19T13:02:15.407701Z",
     "iopub.status.idle": "2023-12-19T13:02:15.415972Z",
     "shell.execute_reply.started": "2023-12-19T13:02:15.407667Z",
     "shell.execute_reply": "2023-12-19T13:02:15.415098Z"
    },
    "trusted": true
   },
   "execution_count": 13,
   "outputs": []
  },
  {
   "cell_type": "code",
   "source": [
    "class ResNet(nn.Module):\n",
    "    def __init__(self, block, layers, num_classes = 10):\n",
    "        super(ResNet, self).__init__()\n",
    "        self.inplanes = 64\n",
    "        self.conv1 = nn.Sequential(\n",
    "                        nn.Conv2d(3, 64, kernel_size = 7, stride = 2, padding = 3),\n",
    "                        nn.BatchNorm2d(64),\n",
    "                        nn.ReLU())\n",
    "        self.maxpool = nn.MaxPool2d(kernel_size = 3, stride = 2, padding = 1)\n",
    "        self.layer0 = self._make_layer(block, 64, layers[0], stride = 1)\n",
    "        self.layer1 = self._make_layer(block, 128, layers[1], stride = 2)\n",
    "        self.layer2 = self._make_layer(block, 256, layers[2], stride = 2)\n",
    "        self.layer3 = self._make_layer(block, 512, layers[3], stride = 2)\n",
    "        self.avgpool = nn.AvgPool2d(7, stride=1)\n",
    "        self.fc = nn.Linear(512, num_classes)\n",
    "        \n",
    "    def _make_layer(self, block, planes, blocks, stride=1):\n",
    "        downsample = None\n",
    "        if stride != 1 or self.inplanes != planes:\n",
    "            \n",
    "            downsample = nn.Sequential(\n",
    "                nn.Conv2d(self.inplanes, planes, kernel_size=1, stride=stride),\n",
    "                nn.BatchNorm2d(planes),\n",
    "            )\n",
    "        layers = []\n",
    "        layers.append(block(self.inplanes, planes, stride, downsample))\n",
    "        self.inplanes = planes\n",
    "        for i in range(1, blocks):\n",
    "            layers.append(block(self.inplanes, planes))\n",
    "\n",
    "        return nn.Sequential(*layers)\n",
    "    \n",
    "    \n",
    "    def forward(self, x):\n",
    "        x = self.conv1(x)\n",
    "        x = self.maxpool(x)\n",
    "        x = self.layer0(x)\n",
    "        x = self.layer1(x)\n",
    "        x = self.layer2(x)\n",
    "        x = self.layer3(x)\n",
    "\n",
    "        x = self.avgpool(x)\n",
    "        x = x.view(x.size(0), -1)\n",
    "        x = self.fc(x)\n",
    "\n",
    "        return x"
   ],
   "metadata": {
    "execution": {
     "iopub.status.busy": "2023-12-19T13:02:15.418217Z",
     "iopub.execute_input": "2023-12-19T13:02:15.418490Z",
     "iopub.status.idle": "2023-12-19T13:02:15.432443Z",
     "shell.execute_reply.started": "2023-12-19T13:02:15.418458Z",
     "shell.execute_reply": "2023-12-19T13:02:15.431523Z"
    },
    "trusted": true
   },
   "execution_count": 14,
   "outputs": []
  },
  {
   "cell_type": "code",
   "source": [
    "num_classes = 10\n",
    "num_epochs = 20\n",
    "batch_size = 16\n",
    "learning_rate = 0.01\n",
    "\n",
    "model = ResNet(ResidualBlock, [3, 4, 6, 3]).to(device)\n",
    "\n",
    "# Loss and optimizer\n",
    "criterion = nn.CrossEntropyLoss()\n",
    "optimizer = torch.optim.SGD(model.parameters(), lr=learning_rate, weight_decay = 0.001, momentum = 0.9)  \n",
    "\n",
    "# Train the model\n",
    "total_step = len(train_loader)"
   ],
   "metadata": {
    "execution": {
     "iopub.status.busy": "2023-12-19T13:02:15.433578Z",
     "iopub.execute_input": "2023-12-19T13:02:15.433907Z",
     "iopub.status.idle": "2023-12-19T13:02:15.620621Z",
     "shell.execute_reply.started": "2023-12-19T13:02:15.433878Z",
     "shell.execute_reply": "2023-12-19T13:02:15.619933Z"
    },
    "trusted": true
   },
   "execution_count": 15,
   "outputs": []
  },
  {
   "cell_type": "code",
   "source": [
    "import gc\n",
    "\n",
    "def main(train_loader, test_loader): \n",
    "    total_step = len(train_loader)\n",
    "    for epoch in range(num_epochs):\n",
    "        for i, (images, labels) in enumerate(train_loader):  \n",
    "            # Move tensors to the configured device\n",
    "            images = images.to(device)\n",
    "            labels = labels.to(device)\n",
    "\n",
    "            # Forward pass\n",
    "            outputs = model(images)\n",
    "            loss = criterion(outputs, labels)\n",
    "\n",
    "            # Backward and optimize\n",
    "            optimizer.zero_grad()\n",
    "            loss.backward()\n",
    "            optimizer.step()\n",
    "            del images, labels, outputs\n",
    "            torch.cuda.empty_cache()\n",
    "            gc.collect()\n",
    "\n",
    "        print ('Epoch [{}/{}], Loss: {:.4f}' \n",
    "                       .format(epoch+1, num_epochs, loss.item()))\n",
    "\n",
    "        # Validation\n",
    "        with torch.no_grad():\n",
    "            correct = 0\n",
    "            total = 0\n",
    "            for images, labels in valid_loader:\n",
    "                images = images.to(device)\n",
    "                labels = labels.to(device)\n",
    "                outputs = model(images)\n",
    "                _, predicted = torch.max(outputs.data, 1)\n",
    "                total += labels.size(0)\n",
    "                correct += (predicted == labels).sum().item()\n",
    "                del images, labels, outputs\n",
    "\n",
    "            print('Accuracy of the network on the {} validation images: {} %'.format(5000, 100 * correct / total)) \n",
    "        \n",
    "        # Testing\n",
    "        with torch.no_grad():\n",
    "            correct = 0\n",
    "            total = 0\n",
    "            for images, labels in test_loader:\n",
    "                images = images.to(device)\n",
    "                labels = labels.to(device)\n",
    "                outputs = model(images)\n",
    "                _, predicted = torch.max(outputs.data, 1)\n",
    "                total += labels.size(0)\n",
    "                correct += (predicted == labels).sum().item()\n",
    "                del images, labels, outputs\n",
    "\n",
    "            print('Accuracy of the network on the {} test images: {} %'.format(10000, 100 * correct / total))   "
   ],
   "metadata": {
    "execution": {
     "iopub.status.busy": "2023-12-19T13:54:32.376237Z",
     "iopub.execute_input": "2023-12-19T13:54:32.376589Z",
     "iopub.status.idle": "2023-12-19T13:54:39.547071Z",
     "shell.execute_reply.started": "2023-12-19T13:54:32.376561Z",
     "shell.execute_reply": "2023-12-19T13:54:39.545893Z"
    },
    "trusted": true
   },
   "execution_count": 17,
   "outputs": [
    {
     "traceback": [
      "\u001B[0;31m---------------------------------------------------------------------------\u001B[0m",
      "\u001B[0;31mKeyboardInterrupt\u001B[0m                         Traceback (most recent call last)",
      "Cell \u001B[0;32mIn[17], line 20\u001B[0m\n\u001B[1;32m     18\u001B[0m     \u001B[38;5;28;01mdel\u001B[39;00m images, labels, outputs\n\u001B[1;32m     19\u001B[0m     torch\u001B[38;5;241m.\u001B[39mcuda\u001B[38;5;241m.\u001B[39mempty_cache()\n\u001B[0;32m---> 20\u001B[0m     \u001B[43mgc\u001B[49m\u001B[38;5;241;43m.\u001B[39;49m\u001B[43mcollect\u001B[49m\u001B[43m(\u001B[49m\u001B[43m)\u001B[49m\n\u001B[1;32m     22\u001B[0m \u001B[38;5;28mprint\u001B[39m (\u001B[38;5;124m'\u001B[39m\u001B[38;5;124mEpoch [\u001B[39m\u001B[38;5;132;01m{}\u001B[39;00m\u001B[38;5;124m/\u001B[39m\u001B[38;5;132;01m{}\u001B[39;00m\u001B[38;5;124m], Loss: \u001B[39m\u001B[38;5;132;01m{:.4f}\u001B[39;00m\u001B[38;5;124m'\u001B[39m \n\u001B[1;32m     23\u001B[0m                \u001B[38;5;241m.\u001B[39mformat(epoch\u001B[38;5;241m+\u001B[39m\u001B[38;5;241m1\u001B[39m, num_epochs, loss\u001B[38;5;241m.\u001B[39mitem()))\n\u001B[1;32m     25\u001B[0m \u001B[38;5;66;03m# Validation\u001B[39;00m\n",
      "\u001B[0;31mKeyboardInterrupt\u001B[0m: "
     ],
     "ename": "KeyboardInterrupt",
     "evalue": "",
     "output_type": "error"
    }
   ]
  },
  {
   "cell_type": "code",
   "source": [
    "with torch.no_grad():\n",
    "    correct = 0\n",
    "    total = 0\n",
    "    for images, labels in test_loader:\n",
    "        images = images.to(device)\n",
    "        labels = labels.to(device)\n",
    "        outputs = model(images)\n",
    "        _, predicted = torch.max(outputs.data, 1)\n",
    "        total += labels.size(0)\n",
    "        correct += (predicted == labels).sum().item()\n",
    "        del images, labels, outputs\n",
    "\n",
    "    print('Accuracy of the network on the {} test images: {} %'.format(10000, 100 * correct / total))   "
   ],
   "metadata": {
    "execution": {
     "iopub.status.busy": "2023-12-19T13:54:42.138880Z",
     "iopub.execute_input": "2023-12-19T13:54:42.139646Z",
     "iopub.status.idle": "2023-12-19T13:56:30.901993Z",
     "shell.execute_reply.started": "2023-12-19T13:54:42.139618Z",
     "shell.execute_reply": "2023-12-19T13:56:30.901027Z"
    },
    "trusted": true
   },
   "execution_count": 18,
   "outputs": [
    {
     "name": "stdout",
     "text": "Accuracy of the network on the 10000 test images: 91.012 %\n",
     "output_type": "stream"
    }
   ]
  }
 ]
}
